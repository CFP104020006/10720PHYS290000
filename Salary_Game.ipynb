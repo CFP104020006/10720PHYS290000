{
 "cells": [
  {
   "cell_type": "code",
   "execution_count": 1,
   "metadata": {},
   "outputs": [],
   "source": [
    "import numpy as np\n",
    "import matplotlib.pyplot as plt\n",
    "import random"
   ]
  },
  {
   "cell_type": "code",
   "execution_count": 2,
   "metadata": {},
   "outputs": [],
   "source": [
    "n = 5000\n",
    "m = 80\n",
    "dm = 19\n",
    "k = 50000"
   ]
  },
  {
   "cell_type": "code",
   "execution_count": 3,
   "metadata": {},
   "outputs": [
    {
     "data": {
      "image/png": "[encoded data removed]",
      "text/plain": [
       "<Figure size 432x288 with 1 Axes>"
      ]
     },
     "metadata": {
      "needs_background": "light"
     },
     "output_type": "display_data"
    }
   ],
   "source": [
    "# in-debt-ablen't\n",
    "\n",
    "S = np.full(n,m)\n",
    "#people with money are rich \n",
    "rich = list(range(n))\n",
    "\n",
    "#two different rich student doing rock paper scissor\n",
    "for run in range(k):\n",
    "    i, j = random.sample(rich, 2)\n",
    "    \n",
    "    rand = np.random.random()    \n",
    "    if int(rand*3)==2:\n",
    "        if S[j]>dm:\n",
    "            S[i]+=dm\n",
    "            S[j]-=dm\n",
    "        else:\n",
    "            S[i]+=S[j]\n",
    "            S[j]=0 \n",
    "            rich.remove(j) \n",
    "    elif int(rand*3)==1:\n",
    "        if S[i]>dm:\n",
    "            S[i]-=dm\n",
    "            S[j]+=dm\n",
    "        else:\n",
    "            S[j]+=S[i]\n",
    "            S[i]=0\n",
    "            rich.remove(i)\n",
    "    if len(rich)==1:\n",
    "        print(\"Stop! Everyone else is broke!\")\n",
    "        break\n",
    "            \n",
    "plt.hist(S)    \n",
    "plt.xlabel(\"Money\")\n",
    "plt.ylabel(\"People\")\n",
    "plt.title(\"You Broke You Lose\")\n",
    "plt.show()"
   ]
  },
  {
   "cell_type": "code",
   "execution_count": 4,
   "metadata": {},
   "outputs": [
    {
     "data": {
      "image/png": "[encoded data removed]",
      "text/plain": [
       "<Figure size 432x288 with 1 Axes>"
      ]
     },
     "metadata": {
      "needs_background": "light"
     },
     "output_type": "display_data"
    }
   ],
   "source": [
    "# in-debt-able\n",
    "\n",
    "S = np.full(n,m)\n",
    "\n",
    "#two different student doing rock paper scissor\n",
    "for run in range(k):\n",
    "    \n",
    "    i, j = random.sample(range(n), 2)\n",
    "    \n",
    "    rand = 3*np.random.random()    \n",
    "    if int(rand)==2:\n",
    "        S[i]+=dm\n",
    "        S[j]-=dm\n",
    "    elif int(rand)==1:\n",
    "        S[i]-=dm\n",
    "        S[j]+=dm\n",
    "\n",
    "plt.hist(S)    \n",
    "plt.xlabel(\"Money\")\n",
    "plt.ylabel(\"People\")\n",
    "plt.title(\"You Broke You Losen't\")\n",
    "plt.show()"
   ]
  }
 ],
 "metadata": {
  "kernelspec": {
   "display_name": "Python 3",
   "language": "python",
   "name": "python3"
  },
  "language_info": {
   "codemirror_mode": {
    "name": "ipython",
    "version": 3
   },
   "file_extension": ".py",
   "mimetype": "text/x-python",
   "name": "python",
   "nbconvert_exporter": "python",
   "pygments_lexer": "ipython3",
   "version": "3.7.1"
  }
 },
 "nbformat": 4,
 "nbformat_minor": 2
}
